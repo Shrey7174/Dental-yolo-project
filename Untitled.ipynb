{
 "cells": [
  {
   "cell_type": "code",
   "execution_count": null,
   "id": "87e4f46f-e8a3-4dda-a9d8-29373104a242",
   "metadata": {},
   "outputs": [],
   "source": [
    "from ultralytics import YOLO\n",
    "\n",
    "def train_model():\n",
    "    \"\"\"\n",
    "    Trains a YOLOv8 model on the custom dental dataset.\n",
    "    \"\"\"\n",
    "    model = YOLO('yolov8s.pt')\n",
    "\n",
    "    results = model.train(\n",
    "        data='data.yaml',\n",
    "        epochs=100,\n",
    "        imgsz=640,\n",
    "        project='runs/detect',\n",
    "        name='dental_experiment_1',\n",
    "        exist_ok=True \n",
    "    )\n",
    "    \n",
    "    print(\"Training complete.\")\n",
    "    print(f\"Best model weights saved at: {results.save_dir}/weights/best.pt\")\n",
    "\n",
    "if __name__ == '__main__':\n",
    "    train_model()"
   ]
  }
 ],
 "metadata": {
  "kernelspec": {
   "display_name": "Python 3 (ipykernel)",
   "language": "python",
   "name": "python3"
  },
  "language_info": {
   "codemirror_mode": {
    "name": "ipython",
    "version": 3
   },
   "file_extension": ".py",
   "mimetype": "text/x-python",
   "name": "python",
   "nbconvert_exporter": "python",
   "pygments_lexer": "ipython3",
   "version": "3.11.5"
  }
 },
 "nbformat": 4,
 "nbformat_minor": 5
}
